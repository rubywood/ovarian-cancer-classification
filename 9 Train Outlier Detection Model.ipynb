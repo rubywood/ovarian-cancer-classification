{
 "cells": [
  {
   "cell_type": "markdown",
   "id": "e8c1099e",
   "metadata": {},
   "source": [
    "## Approach\n",
    "\n",
    "- use linear SGD One Class Support Vector Machine (OCSVM) to fit outlier detection model on large dataset"
   ]
  },
  {
   "cell_type": "code",
   "execution_count": 1,
   "id": "a1de14a6",
   "metadata": {},
   "outputs": [],
   "source": [
    "from timm.models.layers.helpers import to_2tuple\n",
    "import timm\n",
    "import torch.nn as nn\n",
    "import torch\n",
    "import torch.backends.cudnn as cudnn\n",
    "\n",
    "from torchsummary import summary\n",
    "from torchvision import transforms\n",
    "from torch.utils.data import Dataset, DataLoader\n",
    "import torch.optim as optim\n",
    "import torch.nn.functional as F\n",
    "\n",
    "from sklearn.metrics import balanced_accuracy_score\n",
    "from sklearn.svm import OneClassSVM\n",
    "from sklearn import linear_model\n",
    "\n",
    "import os\n",
    "import pandas as pd\n",
    "import openslide\n",
    "from PIL import Image\n",
    "import numpy as np\n",
    "import random\n",
    "import time\n",
    "import warnings\n",
    "from joblib import dump, load\n",
    "\n",
    "from tqdm.notebook import trange, tqdm\n",
    "import matplotlib.pyplot as plt\n",
    "\n",
    "import pyvips\n",
    "import itertools"
   ]
  },
  {
   "cell_type": "code",
   "execution_count": 2,
   "id": "7d51431a",
   "metadata": {},
   "outputs": [],
   "source": [
    "DATA_DIR = 'Data/'\n",
    "\n",
    "args = pd.Series({\n",
    "    'batch_size_per_gpu' : 2048,\n",
    "    'num_workers': 4,\n",
    "    'image_dir': os.path.join(DATA_DIR, 'train_images'),\n",
    "    'model_name': 'CTRansPath_MLP_20x',\n",
    "    'patch_df': 'train_patches_20x', \n",
    "    'mag': '20X',\n",
    "})"
   ]
  },
  {
   "cell_type": "code",
   "execution_count": 3,
   "id": "04043415",
   "metadata": {},
   "outputs": [],
   "source": [
    "device = torch.device(f'cuda' if torch.cuda.is_available() else 'cpu')    "
   ]
  },
  {
   "cell_type": "markdown",
   "id": "bdbbe773",
   "metadata": {},
   "source": [
    "CTransPath from https://github.com/Xiyue-Wang/TransPath\n",
    "\n",
    "Make sure to insure specified version of timm."
   ]
  },
  {
   "cell_type": "code",
   "execution_count": 4,
   "id": "a08ef493",
   "metadata": {},
   "outputs": [],
   "source": [
    "class ConvStem(nn.Module):\n",
    "\n",
    "    def __init__(self, img_size=224, patch_size=4, in_chans=3, embed_dim=768, norm_layer=None, \n",
    "                 flatten=True, output_fmt=None):\n",
    "        super().__init__()\n",
    "\n",
    "        assert patch_size == 4\n",
    "        assert embed_dim % 8 == 0\n",
    "\n",
    "        img_size = to_2tuple(img_size)\n",
    "        patch_size = to_2tuple(patch_size)\n",
    "        self.img_size = img_size\n",
    "        self.patch_size = patch_size\n",
    "        self.grid_size = (img_size[0] // patch_size[0], img_size[1] // patch_size[1])\n",
    "        self.num_patches = self.grid_size[0] * self.grid_size[1]\n",
    "        self.flatten = flatten\n",
    "\n",
    "\n",
    "        stem = []\n",
    "        input_dim, output_dim = 3, embed_dim // 8\n",
    "        for l in range(2):\n",
    "            stem.append(nn.Conv2d(input_dim, output_dim, kernel_size=3, stride=2, padding=1, bias=False))\n",
    "            stem.append(nn.BatchNorm2d(output_dim))\n",
    "            stem.append(nn.ReLU(inplace=True))\n",
    "            input_dim = output_dim\n",
    "            output_dim *= 2\n",
    "        stem.append(nn.Conv2d(input_dim, embed_dim, kernel_size=1))\n",
    "        self.proj = nn.Sequential(*stem)\n",
    "\n",
    "        self.norm = norm_layer(embed_dim) if norm_layer else nn.Identity()\n",
    "\n",
    "    def forward(self, x):\n",
    "        #print(x.shape)\n",
    "        B, C, H, W = x.shape\n",
    "        assert H == self.img_size[0] and W == self.img_size[1], \\\n",
    "            f\"Input image size ({H}*{W}) doesn't match model ({self.img_size[0]}*{self.img_size[1]}).\"\n",
    "        x = self.proj(x)\n",
    "        if self.flatten:\n",
    "            x = x.flatten(2).transpose(1, 2)  # BCHW -> BNC\n",
    "        x = self.norm(x)\n",
    "        return x\n",
    "\n",
    "def ctranspath():\n",
    "    model = timm.create_model('swin_tiny_patch4_window7_224', embed_layer=ConvStem, pretrained=False)\n",
    "    return model"
   ]
  },
  {
   "cell_type": "code",
   "execution_count": 5,
   "id": "94642c78",
   "metadata": {},
   "outputs": [],
   "source": [
    "def feature_extraction(feature_model, image):\n",
    "    #feature_model.eval()\n",
    "    \n",
    "    #image = image.cuda(non_blocking=True)\n",
    "    \n",
    "    with torch.no_grad():\n",
    "        output = feature_model(image)\n",
    "        \n",
    "    return output"
   ]
  },
  {
   "cell_type": "markdown",
   "id": "5b874dc1",
   "metadata": {},
   "source": [
    "### Construct data loader"
   ]
  },
  {
   "cell_type": "markdown",
   "id": "29de4c01",
   "metadata": {},
   "source": [
    "Load data"
   ]
  },
  {
   "cell_type": "code",
   "execution_count": 6,
   "id": "150eea7c",
   "metadata": {},
   "outputs": [],
   "source": [
    "patch_df = pd.read_csv(f'{args.patch_df}.csv', index_col=0)\n",
    "\n",
    "train_df = pd.read_csv(os.path.join(DATA_DIR, 'train_hot.csv'), index_col=0)"
   ]
  },
  {
   "cell_type": "markdown",
   "id": "9375660f",
   "metadata": {},
   "source": [
    "Using 5 classes only so -1 from class"
   ]
  },
  {
   "cell_type": "code",
   "execution_count": 7,
   "id": "860ab798",
   "metadata": {},
   "outputs": [],
   "source": [
    "train_df['label_cat'] = train_df['label_cat'] - 1"
   ]
  },
  {
   "cell_type": "markdown",
   "id": "59c3bd0b",
   "metadata": {},
   "source": [
    "Subsample patches for WSIs"
   ]
  },
  {
   "cell_type": "code",
   "execution_count": 8,
   "id": "3435c8f2",
   "metadata": {},
   "outputs": [],
   "source": [
    "wsi_ids = train_df[train_df.is_tma==False].image_id.values\n",
    "\n",
    "tma_ids = train_df[train_df.is_tma==True].image_id.values\n",
    "sub_patch_df = patch_df[patch_df.image_id.isin(tma_ids)].reset_index(drop=True)"
   ]
  },
  {
   "cell_type": "code",
   "execution_count": 9,
   "id": "ce18d6f7",
   "metadata": {},
   "outputs": [],
   "source": [
    "max_tiles = 10000\n",
    "\n",
    "for wsi_id in wsi_ids:\n",
    "    # sample min(#, 10000) tiles per WSI without replacement\n",
    "    \n",
    "    wsi_id_patches = patch_df[patch_df.image_id==wsi_id]\n",
    "    \n",
    "    if len(wsi_id_patches) > max_tiles:\n",
    "        wsi_id_patches = wsi_id_patches.sample(n=max_tiles, replace=False, axis=0)\n",
    "    \n",
    "    # add sample to sub_patch_df\n",
    "    sub_patch_df = pd.concat([sub_patch_df, wsi_id_patches], ignore_index=True)"
   ]
  },
  {
   "cell_type": "markdown",
   "id": "ef20f02e",
   "metadata": {},
   "source": [
    "Define transforms"
   ]
  },
  {
   "cell_type": "code",
   "execution_count": 10,
   "id": "da5884a2",
   "metadata": {},
   "outputs": [],
   "source": [
    "val_transform = transforms.Compose([\n",
    "    transforms.Resize((224, 224)),\n",
    "    transforms.ToTensor(),\n",
    "    transforms.Normalize(mean=[0.485, 0.456, 0.406], std=[0.229, 0.224, 0.225])\n",
    "])"
   ]
  },
  {
   "cell_type": "markdown",
   "id": "49713c7a",
   "metadata": {},
   "source": [
    "Define dataset and data loader"
   ]
  },
  {
   "cell_type": "code",
   "execution_count": 11,
   "id": "5e82de07",
   "metadata": {},
   "outputs": [],
   "source": [
    "class PatchDataset(Dataset):\n",
    "    def __init__(self, patch_df, label_df, image_folder, transform=None, patch_size=256, return_id=False,\n",
    "                mag='10X'):\n",
    "        self.patch_df = patch_df\n",
    "        self.label_df = label_df\n",
    "        self.image_folder = image_folder\n",
    "        self.transform = transform\n",
    "        self.patch_size = patch_size\n",
    "        self.return_id = return_id\n",
    "        self.mag = mag\n",
    "        \n",
    "        \n",
    "    def __len__(self):\n",
    "        return len(self.patch_df)\n",
    "    \n",
    "    \n",
    "    def __getitem__(self, idx):\n",
    "        patch_info = self.patch_df.loc[idx] # using loc, so using name of index not ordered position\n",
    "        x, y = patch_info['x_coord'], patch_info['y_coord']\n",
    "        image_id = patch_info['image_id']\n",
    "        \n",
    "        wsi = openslide.OpenSlide(os.path.join(self.image_folder, f\"{image_id}.tif\"))\n",
    "        wsi_size = wsi.dimensions\n",
    "        \n",
    "        if self.mag == '10X':\n",
    "            level = 2 if is_tma_image(image_id) else 1\n",
    "        elif self.mag == '20X':\n",
    "            level = 1 if is_tma_image(image_id) else 0\n",
    "        else:\n",
    "            level = 0\n",
    "        patch = wsi.read_region((x, y), level=level, size=(self.patch_size, self.patch_size))\n",
    "        patch = np.array(patch)[..., :3]\n",
    "        \n",
    "                \n",
    "        if self.transform is not None:\n",
    "            pil_img = Image.fromarray(patch)\n",
    "            patch = self.transform(pil_img) # pil_img\n",
    "        \n",
    "        label = self.label_for_id(image_id)        \n",
    "    \n",
    "        if self.return_id:\n",
    "            return patch, label, image_id\n",
    "        else:\n",
    "            return patch, label\n",
    "    \n",
    "        \n",
    "    def label_for_id(self, image_id):\n",
    "        return self.label_df[self.label_df['image_id']==image_id]['label_cat'].iloc[0]\n",
    "        \n",
    "def is_tma_image(image_id, label_df=train_df):\n",
    "    return label_df[label_df.image_id==image_id].is_tma.item()"
   ]
  },
  {
   "cell_type": "code",
   "execution_count": 12,
   "id": "2cba9bf1",
   "metadata": {},
   "outputs": [],
   "source": [
    "class VipsPatchDataset(Dataset):\n",
    "    def __init__(self, label_df, image_folder, image_id, transform=None, rescale_factor=1, patch_size=256,\n",
    "                max_patches=1000):\n",
    "        self.label_df = label_df\n",
    "        self.image_folder = image_folder\n",
    "        self.transform = transform\n",
    "        self.patch_size = patch_size\n",
    "        self.level = 0\n",
    "        self.image_id = image_id\n",
    "\n",
    "        image_path = os.path.join(image_folder, f\"{image_id}.png\")\n",
    "        pyvips_img = pyvips.Image.new_from_file(image_path, access='sequential') \n",
    "        if rescale_factor!=1:\n",
    "            try:\n",
    "                pyvips_img = pyvips_img.resize(rescale_factor, kernel='linear')\n",
    "            except Exception:\n",
    "                print('Not rescaling')\n",
    "        img_np = to_numpy(pyvips_img)  \n",
    "        self.tiles = tiling_predefined_patch_sample(img_np, k=max_patches) \n",
    "        \n",
    "        \n",
    "    def __len__(self):\n",
    "        return len(self.tiles)\n",
    "    \n",
    "    \n",
    "    def __getitem__(self, idx):\n",
    "        patch = self.tiles[idx]\n",
    "                \n",
    "        if self.transform is not None:\n",
    "            pil_img = Image.fromarray(patch)\n",
    "            patch = self.transform(pil_img)\n",
    "        \n",
    "        if self.label_df is not None:\n",
    "            label = self.label_for_id(self.image_id)\n",
    "            return patch, label\n",
    "        else:\n",
    "            return patch, self.image_id\n",
    "    \n",
    "        \n",
    "    def label_for_id(self, image_id):\n",
    "        return self.label_df[self.label_df['image_id']==image_id]['label_cat'].iloc[0]\n",
    "    \n",
    "    \n",
    "def to_numpy(pyvips_img): \n",
    "    return np.ndarray(\n",
    "        buffer=pyvips_img.write_to_memory(),\n",
    "        dtype=np.uint8,\n",
    "        shape=[pyvips_img.height, pyvips_img.width, pyvips_img.bands]\n",
    "    )\n",
    "\n",
    "\n",
    "def tiling(image): \n",
    "    tile_size = image.shape[0] // 5 \n",
    "    tiles = list()\n",
    "    for i in range(5):\n",
    "        for j in range(5):\n",
    "            left = j * tile_size\n",
    "            top = i * tile_size\n",
    "            right = left + tile_size\n",
    "            bottom = top + tile_size \n",
    "            tiles.append(image[top:bottom, left:right, :]) \n",
    "    return tiles\n",
    "\n",
    "def tiling_predefined_patch(image, background_cutoff = 220):\n",
    "    tiles = list()\n",
    "    for x in range(0, image.shape[0], STRIDE):\n",
    "        for y in range(0, image.shape[1], STRIDE):\n",
    "            #print(x, y)\n",
    "            # load tile\n",
    "            left = x\n",
    "            top = y\n",
    "            right = x + min(PATCH_SIZE, image.shape[0] - x)\n",
    "            bottom = y + min(PATCH_SIZE, image.shape[1] - y)\n",
    "            tile = image[top:bottom, left:right, :]\n",
    "            \n",
    "            nz = np.nonzero(tile)\n",
    "            if NUM_PATCH_PIXELS - len(nz[0]) + \\\n",
    "                np.sum(tile[nz] > background_cutoff) <= MIN_TISSUE_RATIO*NUM_PATCH_PIXELS:\n",
    "                tiles.append(tile)\n",
    "    return tiles\n",
    "\n",
    "def check_tile(x, y, image, background_cutoff=220):\n",
    "    left = x\n",
    "    top = y\n",
    "    right = x + min(PATCH_SIZE, image.shape[0] - x)\n",
    "    bottom = y + min(PATCH_SIZE, image.shape[1] - y)\n",
    "    tile = image[top:bottom, left:right, :]\n",
    "    nz = np.nonzero(tile)\n",
    "    if NUM_PATCH_PIXELS - len(nz[0]) + \\\n",
    "        np.sum(tile[nz] > background_cutoff) <= MIN_TISSUE_RATIO*NUM_PATCH_PIXELS:\n",
    "        return tile\n",
    "    else:\n",
    "        return None\n",
    "\n",
    "def tiling_predefined_patch_sample(image, k=1000, background_cutoff = 220):\n",
    "    tiles = list()\n",
    "    x_seq = np.arange(0, image.shape[0], STRIDE).tolist()\n",
    "    y_seq = np.arange(0, image.shape[1], STRIDE).tolist()\n",
    "    poss_coords = list(itertools.product(x_seq, y_seq))\n",
    "   \n",
    "    tile_count = 0\n",
    "    try_count = 0\n",
    "    max_coord_count = len(x_seq) * len(y_seq)\n",
    "    \n",
    "    while tile_count < k and try_count < max_coord_count:\n",
    "        coord = random.sample(poss_coords, k=1)[0] # without replacement\n",
    "        try_count += 1\n",
    "        \n",
    "        tile = check_tile(x=coord[0], y=coord[1], image=image, background_cutoff=background_cutoff)\n",
    "        if tile is not None:\n",
    "            tiles.append(tile)\n",
    "            tile_count += 1\n",
    "    \n",
    "    print(f'{tile_count} tiles')\n",
    "    return tiles\n",
    "        \n",
    "\n",
    "\n",
    "def display_tiles(tiles): \n",
    "    fig, axes = plt.subplots(5, 5, figsize=(10, 10)) \n",
    "    for i, tile in enumerate(tiles[-25:]):\n",
    "        axes[i // 5, i % 5].imshow(tile)\n",
    "        axes[i // 5, i % 5].axis('off')\n",
    "    plt.tight_layout()\n",
    "    plt.show()\n",
    "\n",
    "    \n",
    "def process_image(image_path):\n",
    "    pyvips_img = pyvips.Image.new_from_file(image_path, access='sequential') \n",
    "    img_np = to_numpy(pyvips_img)  \n",
    "    print (img_np.shape)\n",
    "    tiles = tiling_predefined_patch(img_np) \n",
    "    return tiles\n",
    "    #display_tiles(tiles)\n"
   ]
  },
  {
   "cell_type": "markdown",
   "id": "93452ffc",
   "metadata": {},
   "source": [
    "### Set up MLP to predict label from CTransPath features"
   ]
  },
  {
   "cell_type": "markdown",
   "id": "a98b6283",
   "metadata": {},
   "source": [
    "Split into train and validation. Test on TMAs."
   ]
  },
  {
   "cell_type": "code",
   "execution_count": 13,
   "id": "0c6b113e",
   "metadata": {},
   "outputs": [
    {
     "name": "stdout",
     "output_type": "stream",
     "text": [
      "Training: 5063926\n",
      "Validation: 2957\n"
     ]
    }
   ],
   "source": [
    "SEED = 1234\n",
    "\n",
    "random.seed(SEED)\n",
    "np.random.seed(SEED)\n",
    "torch.manual_seed(SEED)\n",
    "torch.cuda.manual_seed(SEED)\n",
    "#torch.backends.cudnn.deterministic = True\n",
    "\n",
    "train_ids = train_df[~train_df.is_tma].image_id.values\n",
    "valid_ids = train_df[train_df.is_tma].image_id.values\n",
    "    \n",
    "# may have to redo index\n",
    "train_data = sub_patch_df[sub_patch_df.image_id.isin(train_ids)].reset_index()\n",
    "valid_data = sub_patch_df[sub_patch_df.image_id.isin(valid_ids)].reset_index()\n",
    "print('Training:', len(train_data))\n",
    "print('Validation:', len(valid_data))"
   ]
  },
  {
   "cell_type": "markdown",
   "id": "78340b84",
   "metadata": {},
   "source": [
    "Check label counts of training and validation sets"
   ]
  },
  {
   "cell_type": "code",
   "execution_count": 14,
   "id": "d3eb1ca0",
   "metadata": {},
   "outputs": [
    {
     "name": "stdout",
     "output_type": "stream",
     "text": [
      "HGSC    217\n",
      "EC      119\n",
      "CC       94\n",
      "LGSC     42\n",
      "MC       41\n",
      "Name: label, dtype: int64\n"
     ]
    }
   ],
   "source": [
    "# Training set\n",
    "print(train_df[train_df.image_id.isin(train_ids)].label.value_counts())"
   ]
  },
  {
   "cell_type": "code",
   "execution_count": 15,
   "id": "72a14793",
   "metadata": {},
   "outputs": [
    {
     "name": "stdout",
     "output_type": "stream",
     "text": [
      "HGSC    5\n",
      "MC      5\n",
      "LGSC    5\n",
      "EC      5\n",
      "CC      5\n",
      "Name: label, dtype: int64\n"
     ]
    }
   ],
   "source": [
    "# Validation set\n",
    "print(train_df[train_df.image_id.isin(valid_ids)].label.value_counts())"
   ]
  },
  {
   "cell_type": "markdown",
   "id": "46608207",
   "metadata": {},
   "source": [
    "Define data loaders"
   ]
  },
  {
   "cell_type": "code",
   "execution_count": 16,
   "id": "763f2fc0",
   "metadata": {},
   "outputs": [],
   "source": [
    "valid_patch_dataset = PatchDataset(patch_df=valid_data, label_df=train_df, \n",
    "                                   image_folder=args.image_dir, transform=val_transform)\n",
    "        \n",
    "valid_loader = DataLoader(valid_patch_dataset, batch_size=args.batch_size_per_gpu, \n",
    "                                           shuffle=False, num_workers=args.num_workers, \n",
    "                                           pin_memory=True, sampler=None)"
   ]
  },
  {
   "cell_type": "code",
   "execution_count": 17,
   "id": "3b798858",
   "metadata": {},
   "outputs": [
    {
     "name": "stdout",
     "output_type": "stream",
     "text": [
      "2\n"
     ]
    }
   ],
   "source": [
    "print(len(valid_loader))"
   ]
  },
  {
   "cell_type": "markdown",
   "id": "790d04ab",
   "metadata": {},
   "source": [
    "Define MLP\n",
    "\n",
    "From https://colab.research.google.com/github/bentrevett/pytorch-image-classification/blob/master/1_mlp.ipynb#scrollTo=VGDeNGLhREwf"
   ]
  },
  {
   "cell_type": "code",
   "execution_count": 18,
   "id": "b632af98",
   "metadata": {},
   "outputs": [],
   "source": [
    "class MLP(nn.Module):\n",
    "    def __init__(self, input_dim, output_dim):\n",
    "        super().__init__()\n",
    "\n",
    "        self.input_fc = nn.Linear(input_dim, 384)\n",
    "        self.hidden_fc1 = nn.Linear(384, 96)\n",
    "        self.output_fc = nn.Linear(96, output_dim)\n",
    "        self.softmax = nn.Softmax(dim=1)\n",
    "        self.dropout = nn.Dropout(0.5)\n",
    "\n",
    "    def forward(self, x):\n",
    "\n",
    "        # x = [batch size, height, width]\n",
    "\n",
    "        batch_size = x.shape[0]\n",
    "\n",
    "        x = x.view(batch_size, -1)\n",
    "\n",
    "        # x = [batch size, height * width]\n",
    "\n",
    "        h_1 = F.relu(self.input_fc(x))\n",
    "        \n",
    "        h_1 = self.dropout(h_1)\n",
    "\n",
    "        # h_1 = [batch size, 384]\n",
    "\n",
    "        h_2 = F.relu(self.hidden_fc1(h_1))\n",
    "        \n",
    "        #h_2 = self.dropout(h_2)\n",
    "\n",
    "        # h_2 = [batch size, 96]\n",
    "\n",
    "        y_pred = self.output_fc(h_2)\n",
    "\n",
    "        # y_pred = [batch size, output dim]\n",
    "\n",
    "        return self.softmax(y_pred), h_2"
   ]
  },
  {
   "cell_type": "markdown",
   "id": "bcb1fec7",
   "metadata": {},
   "source": [
    "Set up for training the model"
   ]
  },
  {
   "cell_type": "code",
   "execution_count": 19,
   "id": "d80ed357",
   "metadata": {},
   "outputs": [
    {
     "name": "stdout",
     "output_type": "stream",
     "text": [
      "CTransPath model built.\n"
     ]
    }
   ],
   "source": [
    "warnings.filterwarnings('ignore')\n",
    "\n",
    "# ============ define feature model ============\n",
    "feature_model = ctranspath()\n",
    "feature_model.head = nn.Identity()\n",
    "# load weights to evaluate\n",
    "td = torch.load(r'ctranspath.pth')\n",
    "feature_model.load_state_dict(td['model'], strict=True)\n",
    "\n",
    "#embed_dim = model.embed_dim # returns 96 for initial conv layer but actually might be 768\n",
    "embed_dim = feature_model.layers[-1].blocks[-1].mlp.fc2.out_features # this is 768\n",
    "feature_model = nn.DataParallel(feature_model)\n",
    "\n",
    "\n",
    "feature_model = feature_model.to(device)\n",
    "feature_model.eval()\n",
    "\n",
    "\n",
    "print(f\"CTransPath model built.\")\n",
    "\n",
    "# ============ define MLP model head ============\n",
    "mlp = MLP(embed_dim, 5)\n",
    "mlp = nn.DataParallel(mlp)\n",
    "mlp = mlp.to(device)\n",
    "\n",
    "\n",
    "# ============ define optimisers ============\n",
    "optimizer = optim.Adam(mlp.parameters())\n",
    "criterion = nn.CrossEntropyLoss().to(device)"
   ]
  },
  {
   "cell_type": "code",
   "execution_count": 20,
   "id": "843aeef9",
   "metadata": {},
   "outputs": [],
   "source": [
    "def calculate_accuracy(y_pred, y):\n",
    "    top_pred = y_pred.argmax(1, keepdim=True)\n",
    "    correct = top_pred.eq(y.view_as(top_pred)).sum()\n",
    "    acc = correct.float() / y.shape[0]\n",
    "    return acc\n",
    "\n",
    "def calculate_balanced_accuracy(y_pred, y):\n",
    "    top_pred = y_pred.argmax(1, keepdim=True)\n",
    "    return balanced_accuracy_score(y.detach().cpu().numpy(), top_pred.detach().cpu().numpy())\n",
    "\n",
    "def train(feature_model, model_head, iterator, optimizer, criterion, device):\n",
    "\n",
    "    epoch_loss = 0\n",
    "    epoch_acc = 0\n",
    "    epoch_bacc = 0\n",
    "    \n",
    "    model_head.train()\n",
    "    feature_model.eval()\n",
    "\n",
    "    for (img, lbl) in tqdm(iterator, desc=\"Training\", leave=False):\n",
    "        \n",
    "        img = img.to(device)\n",
    "        #print('Image:', img.shape)\n",
    "        lbl = lbl.to(device)\n",
    "        #print('Label:', lbl.shape)\n",
    "\n",
    "        optimizer.zero_grad()\n",
    "\n",
    "        features = feature_extraction(feature_model, img)\n",
    "        #print('Features:', features.shape)\n",
    "        pred, _ = model_head(features)\n",
    "        #print('Pred:', pred.shape)\n",
    "\n",
    "        #print('Pred:', pred)\n",
    "        #print('Label:', lbl)\n",
    "        loss = criterion(pred, lbl)\n",
    "\n",
    "        acc = calculate_accuracy(pred, lbl)\n",
    "        bacc = calculate_balanced_accuracy(pred, lbl)\n",
    "\n",
    "        loss.backward()\n",
    "\n",
    "        optimizer.step()\n",
    "\n",
    "        epoch_loss += loss.item()\n",
    "        epoch_acc += acc.item()\n",
    "        epoch_bacc += bacc.item()\n",
    "\n",
    "    return epoch_loss / len(iterator), epoch_acc / len(iterator), epoch_bacc / len(iterator)\n",
    "\n",
    "def evaluate(feature_model, model_head, iterator, criterion, device):\n",
    "\n",
    "    epoch_loss = 0\n",
    "    epoch_acc = 0\n",
    "    epoch_bacc = 0\n",
    "    \n",
    "    model_head.eval()\n",
    "    feature_model.eval()\n",
    "\n",
    "    with torch.no_grad():\n",
    "\n",
    "        for (img, lbl) in tqdm(iterator, desc=\"Evaluating\", leave=False):\n",
    "            \n",
    "            img = img.to(device)\n",
    "            lbl = lbl.to(device)\n",
    "            \n",
    "            features = feature_extraction(feature_model, img)\n",
    "            pred, _ = model_head(features)\n",
    "\n",
    "            loss = criterion(pred, lbl)\n",
    "\n",
    "            acc = calculate_accuracy(pred, lbl)\n",
    "            bacc = calculate_balanced_accuracy(pred, lbl)\n",
    "\n",
    "            epoch_loss += loss.item()\n",
    "            epoch_acc += acc.item()\n",
    "            epoch_bacc += bacc.item()\n",
    "\n",
    "    return epoch_loss / len(iterator), epoch_acc / len(iterator), epoch_bacc / len(iterator)\n",
    "\n",
    "def epoch_time(start_time, end_time):\n",
    "    elapsed_time = end_time - start_time\n",
    "    elapsed_mins = int(elapsed_time / 60)\n",
    "    elapsed_secs = int(elapsed_time - (elapsed_mins * 60))\n",
    "    return elapsed_mins, elapsed_secs"
   ]
  },
  {
   "cell_type": "markdown",
   "id": "4bc7a03f",
   "metadata": {},
   "source": [
    "Evaluate model"
   ]
  },
  {
   "cell_type": "code",
   "execution_count": 21,
   "id": "4185c4db",
   "metadata": {
    "scrolled": false
   },
   "outputs": [
    {
     "data": {
      "application/vnd.jupyter.widget-view+json": {
       "model_id": "",
       "version_major": 2,
       "version_minor": 0
      },
      "text/plain": [
       "Evaluating:   0%|          | 0/2 [00:00<?, ?it/s]"
      ]
     },
     "metadata": {},
     "output_type": "display_data"
    },
    {
     "name": "stdout",
     "output_type": "stream",
     "text": [
      "Valid Loss: 1.380 | Valid Acc: 51.85% | Valid Balanced Acc: 53.08%\n"
     ]
    }
   ],
   "source": [
    "mlp.load_state_dict(torch.load(f'checkpoint/{args.model_name}.pt'))\n",
    "\n",
    "val_loss, val_acc, val_bacc = evaluate(feature_model, mlp, valid_loader, criterion, device)\n",
    "\n",
    "print(f'Valid Loss: {val_loss:.3f} | Valid Acc: {val_acc*100:.2f}% |' + \n",
    "      f' Valid Balanced Acc: {val_bacc*100:.2f}%')"
   ]
  },
  {
   "cell_type": "markdown",
   "id": "91628d07",
   "metadata": {},
   "source": [
    "Patch-level balanced accuracy: 53%"
   ]
  },
  {
   "cell_type": "markdown",
   "id": "f540505a",
   "metadata": {},
   "source": [
    "### Using vips\n",
    "\n",
    "Faster and less memory intensive at inference."
   ]
  },
  {
   "cell_type": "code",
   "execution_count": 22,
   "id": "0bf827fc",
   "metadata": {},
   "outputs": [],
   "source": [
    "use_ocsvm = False\n",
    "ocsvm_mean = False\n",
    "outlier_batch = 10\n",
    "\n",
    "max_patches = 1000\n",
    "\n",
    "reverse_label_categories = { 4: 'HGSC', 3: 'CC', 2: 'EC', 1: 'LGSC', 0: 'MC'}\n",
    "\n",
    "PATCH_SIZE = 256\n",
    "STRIDE = 256 #128\n",
    "MIN_TISSUE_RATIO = 0.5\n",
    "\n",
    "PATCH_AREA = PATCH_SIZE * PATCH_SIZE\n",
    "NUM_PATCH_PIXELS = PATCH_AREA*3\n",
    "\n",
    "if args.mag == '10X':\n",
    "    rescale_factor = 0.5\n",
    "else:\n",
    "    rescale_factor = 1"
   ]
  },
  {
   "cell_type": "code",
   "execution_count": 23,
   "id": "96e45ac8",
   "metadata": {
    "scrolled": true
   },
   "outputs": [
    {
     "name": "stdout",
     "output_type": "stream",
     "text": [
      "Predicting for 25 test images\n",
      "Image: 91\n",
      "172 tiles\n",
      "Predicting for 1 batches\n",
      "Prediction: CC\n",
      "Image: 4134\n",
      "73 tiles\n",
      "Predicting for 1 batches\n",
      "Prediction: HGSC\n",
      "Image: 8280\n",
      "93 tiles\n",
      "Predicting for 1 batches\n",
      "Prediction: HGSC\n",
      "Image: 9200\n",
      "41 tiles\n",
      "Predicting for 1 batches\n",
      "Prediction: MC\n",
      "Image: 13568\n",
      "81 tiles\n",
      "Predicting for 1 batches\n",
      "Prediction: LGSC\n",
      "Image: 17637\n",
      "83 tiles\n",
      "Predicting for 1 batches\n",
      "Prediction: LGSC\n",
      "Image: 21020\n",
      "59 tiles\n",
      "Predicting for 1 batches\n",
      "Prediction: LGSC\n",
      "Image: 29084\n",
      "92 tiles\n",
      "Predicting for 1 batches\n",
      "Prediction: LGSC\n",
      "Image: 31594\n",
      "56 tiles\n",
      "Predicting for 1 batches\n",
      "Prediction: EC\n",
      "Image: 35565\n",
      "32 tiles\n",
      "Predicting for 1 batches\n",
      "Prediction: MC\n",
      "Image: 36302\n",
      "121 tiles\n",
      "Predicting for 1 batches\n",
      "Prediction: CC\n",
      "Image: 36583\n",
      "110 tiles\n",
      "Predicting for 1 batches\n",
      "Prediction: HGSC\n",
      "Image: 36783\n",
      "19 tiles\n",
      "Predicting for 1 batches\n",
      "Prediction: MC\n",
      "Image: 37385\n",
      "56 tiles\n",
      "Predicting for 1 batches\n",
      "Prediction: LGSC\n",
      "Image: 40864\n",
      "91 tiles\n",
      "Predicting for 1 batches\n",
      "Prediction: LGSC\n",
      "Image: 41368\n",
      "127 tiles\n",
      "Predicting for 1 batches\n",
      "Prediction: HGSC\n",
      "Image: 41586\n",
      "63 tiles\n",
      "Predicting for 1 batches\n",
      "Prediction: CC\n",
      "Image: 42857\n",
      "93 tiles\n",
      "Predicting for 1 batches\n",
      "Prediction: MC\n",
      "Image: 44603\n",
      "106 tiles\n",
      "Predicting for 1 batches\n",
      "Prediction: LGSC\n",
      "Image: 47035\n",
      "76 tiles\n",
      "Predicting for 1 batches\n",
      "Prediction: LGSC\n",
      "Image: 48734\n",
      "91 tiles\n",
      "Predicting for 1 batches\n",
      "Prediction: LGSC\n",
      "Image: 50932\n",
      "78 tiles\n",
      "Predicting for 1 batches\n",
      "Prediction: HGSC\n",
      "Image: 53655\n",
      "88 tiles\n",
      "Predicting for 1 batches\n",
      "Prediction: MC\n",
      "Image: 57696\n",
      "81 tiles\n",
      "Predicting for 1 batches\n",
      "Prediction: CC\n",
      "Image: 61797\n",
      "95 tiles\n",
      "Predicting for 1 batches\n",
      "Prediction: HGSC\n"
     ]
    }
   ],
   "source": [
    "test_images =  valid_ids\n",
    "print(f'Predicting for {len(test_images)} test images')\n",
    "\n",
    "\n",
    "all_slide_mean_feats = []\n",
    "batch_imgs = []\n",
    "preds = []\n",
    "\n",
    "for i in range(len(test_images)):\n",
    "    \n",
    "    image_id = test_images[i]\n",
    "    print(f'Image: {image_id}')\n",
    "\n",
    "    try:\n",
    "    \n",
    "        test_patch_dataset = VipsPatchDataset(label_df=None, image_folder=args.image_dir, \n",
    "                                              image_id=image_id, transform=val_transform, \n",
    "                                              rescale_factor=rescale_factor, max_patches=max_patches)\n",
    "        test_loader = DataLoader(test_patch_dataset, batch_size=args.batch_size_per_gpu, \n",
    "                                           shuffle=False, num_workers=args.num_workers, \n",
    "                                           pin_memory=False, sampler=None)\n",
    "        print(f'Predicting for {len(test_loader)} batches')\n",
    "    \n",
    "        \n",
    "        patch_pred = []\n",
    "        patch_feats = []\n",
    "        \n",
    "        with torch.no_grad():\n",
    "            \n",
    "            for idx, (img, lbl) in enumerate(test_loader):\n",
    "                \n",
    "                img = img.to(device)\n",
    "                lbl = lbl.to(device)\n",
    "\n",
    "                features = feature_extraction(feature_model, img)\n",
    "                pred, feats = mlp(features)\n",
    "                                       \n",
    "                patch_pred.extend(pred.detach().cpu().numpy())\n",
    "                if use_ocsvm:\n",
    "                    patch_feats.extend(feats.detach().cpu().numpy())\n",
    "\n",
    "        # Take mode for prediction\n",
    "        abs_preds = np.array(patch_pred).argmax(1)\n",
    "        counts = np.bincount(abs_preds)\n",
    "        pred_cat = np.argmax(counts)\n",
    "            \n",
    "        prediction = reverse_label_categories[pred_cat]\n",
    "        \n",
    "        preds.append(prediction)\n",
    "        \n",
    "        batch_imgs.append(image_id)\n",
    "        if use_ocsvm:\n",
    "            if ocsvm_mean:\n",
    "                all_slide_mean_feats.append(np.array(patch_feats).mean(axis=0))\n",
    "            else:\n",
    "                slide_outlier_preds = osvm.predict(patch_feats)\n",
    "                slide_outlier_pred = np.mean(slide_outlier_preds)\n",
    "                print(f'Slide_outlier_pred: {slide_outlier_pred}')\n",
    "                if slide_outlier_pred < 0:\n",
    "                    prediction = 'Other'\n",
    "            del patch_feats        \n",
    "        del test_patch_dataset, test_loader\n",
    "            \n",
    "    except Exception as e:\n",
    "        prediction = 'HGSC'\n",
    "        print(e)\n",
    "    \n",
    "    print(f'Prediction: {prediction}')\n",
    "    \n",
    "    if ((i+1) % outlier_batch) == 0 or i==(len(test_images)-1):\n",
    "        if use_ocsvm and ocsvm_mean:\n",
    "            print('Outlier prediction')\n",
    "            outlier_preds = osvm.predict(all_slide_mean_feats)\n",
    "            print('Images:', batch_imgs)\n",
    "            print('Outliers:', outlier_preds)\n",
    "    \n",
    "            for (image_id, outlier) in zip(batch_imgs, outlier_preds):\n",
    "                if outlier == -1:\n",
    "                    submission_df.loc[submission_df['image_id']==image_id, 'label'] = 'Other'\n",
    "        \n",
    "            del all_slide_mean_feats\n",
    "            all_slide_mean_feats = []\n",
    "            batch_imgs = []"
   ]
  },
  {
   "cell_type": "code",
   "execution_count": 24,
   "id": "1169b02f",
   "metadata": {},
   "outputs": [
    {
     "data": {
      "text/plain": [
       "0.56"
      ]
     },
     "execution_count": 24,
     "metadata": {},
     "output_type": "execute_result"
    }
   ],
   "source": [
    "from sklearn.metrics import balanced_accuracy_score\n",
    "balanced_accuracy_score(y_true=train_df[train_df.image_id.isin(test_images)].label.values, \n",
    "                        y_pred=preds)"
   ]
  },
  {
   "cell_type": "markdown",
   "id": "7622de76",
   "metadata": {},
   "source": [
    "Slide-level balanced accuracy: 56%"
   ]
  },
  {
   "cell_type": "markdown",
   "id": "33053ce8",
   "metadata": {},
   "source": [
    "## Extract features from MLP\n",
    "\n",
    "Already return features as second output of MLP model.\n",
    "\n",
    "For OneClassSVM, want {array-like, sparse matrix} of shape (n_samples, n_features) i.e. don't need labels."
   ]
  },
  {
   "cell_type": "code",
   "execution_count": 25,
   "id": "5fa33376",
   "metadata": {},
   "outputs": [
    {
     "data": {
      "text/plain": [
       "<All keys matched successfully>"
      ]
     },
     "execution_count": 25,
     "metadata": {},
     "output_type": "execute_result"
    }
   ],
   "source": [
    "mlp.load_state_dict(torch.load(f'checkpoint/{args.model_name}.pt'))"
   ]
  },
  {
   "cell_type": "code",
   "execution_count": 26,
   "id": "aa1cdbe4",
   "metadata": {},
   "outputs": [],
   "source": [
    "def extract_features(feature_model, model_head, iterator, device):\n",
    "    model_head.eval()\n",
    "    feature_model.eval()\n",
    "    \n",
    "    data_feats = []\n",
    "\n",
    "    with torch.no_grad():\n",
    "\n",
    "        for (img, _, _) in tqdm(iterator, desc=\"Evaluating\", leave=False):\n",
    "            \n",
    "            img = img.to(device)\n",
    "            #lbl = lbl.to(device)\n",
    "            \n",
    "            features = feature_extraction(feature_model, img)\n",
    "            _, feats = model_head(features)\n",
    "            #print(feats.shape)\n",
    "            \n",
    "            data_feats.extend(feats.detach().cpu().numpy())\n",
    "    \n",
    "    return data_feats\n",
    "\n",
    "def extract_features_per_slide(slides, train_df, patch_df, val_transform, \n",
    "                               feature_model, model_head, device, sample_n=1000):\n",
    "    model_head.eval()\n",
    "    feature_model.eval()\n",
    "    \n",
    "    data_feats = []\n",
    "    \n",
    "    for slide in tqdm(slides):\n",
    "        \n",
    "        slide_patch_df = patch_df[patch_df.image_id==slide].reset_index(drop=True)\n",
    "        if len(slide_patch_df) > sample_n:\n",
    "            # sample 1000 patches only\n",
    "            slide_patch_df = slide_patch_df.sample(n=sample_n, replace=False).reset_index(drop=True)\n",
    "        \n",
    "        \n",
    "        slide_patch_dataset = PatchDataset(patch_df=slide_patch_df, label_df=train_df, \n",
    "                                 image_folder=args.image_dir, transform=val_transform, return_id=True,\n",
    "                                          mag=args.mag)\n",
    "\n",
    "        slide_data_loader = DataLoader(slide_patch_dataset, batch_size=args.batch_size_per_gpu, \n",
    "                             shuffle=False, num_workers=args.num_workers, pin_memory=True, sampler=None)\n",
    "        \n",
    "        slide_feats = []\n",
    "\n",
    "        with torch.no_grad():\n",
    "    \n",
    "            for i, (img, _, iid) in enumerate(slide_data_loader):\n",
    "                \n",
    "                img = img.to(device)\n",
    "                \n",
    "                features = feature_extraction(feature_model, img)\n",
    "                _, feats = model_head(features)\n",
    "                #print(feats.shape)\n",
    "                \n",
    "                slide_feats.extend(feats.detach().cpu().numpy())\n",
    "                #ids.extend(iid.detach().cpu().numpy())\n",
    "        \n",
    "        data_feats.append(np.array(slide_feats).mean(axis=0))\n",
    "        \n",
    "    return data_feats"
   ]
  },
  {
   "cell_type": "markdown",
   "id": "a0fb9a7f",
   "metadata": {},
   "source": [
    "### Use TMAs to train OCSVM"
   ]
  },
  {
   "cell_type": "code",
   "execution_count": 28,
   "id": "7b4cda87",
   "metadata": {},
   "outputs": [],
   "source": [
    "tma_ids = train_df[train_df.is_tma==True].image_id.values\n",
    "tma_patch_df = patch_df[patch_df.image_id.isin(tma_ids)].reset_index(drop=True)"
   ]
  },
  {
   "cell_type": "code",
   "execution_count": 29,
   "id": "ffd2b210",
   "metadata": {},
   "outputs": [],
   "source": [
    "tma_patch_dataset = PatchDataset(patch_df=tma_patch_df, label_df=train_df, \n",
    "                                 image_folder=args.image_dir, transform=val_transform, return_id=True,\n",
    "                                mag=args.mag)\n",
    "\n",
    "tma_data_loader = DataLoader(tma_patch_dataset, batch_size=args.batch_size_per_gpu, \n",
    "                             shuffle=False, num_workers=args.num_workers, pin_memory=True, sampler=None)"
   ]
  },
  {
   "cell_type": "markdown",
   "id": "cebe16a5",
   "metadata": {},
   "source": [
    "For inference, extract features at same time as predicting"
   ]
  },
  {
   "cell_type": "code",
   "execution_count": 30,
   "id": "027011ea",
   "metadata": {
    "scrolled": true
   },
   "outputs": [
    {
     "data": {
      "application/vnd.jupyter.widget-view+json": {
       "model_id": "",
       "version_major": 2,
       "version_minor": 0
      },
      "text/plain": [
       "Evaluating:   0%|          | 0/2 [00:00<?, ?it/s]"
      ]
     },
     "metadata": {},
     "output_type": "display_data"
    }
   ],
   "source": [
    "data_feats = extract_features(feature_model, mlp, tma_data_loader, device)"
   ]
  },
  {
   "cell_type": "code",
   "execution_count": 31,
   "id": "4c757051",
   "metadata": {},
   "outputs": [
    {
     "data": {
      "text/plain": [
       "(2957, 96)"
      ]
     },
     "execution_count": 31,
     "metadata": {},
     "output_type": "execute_result"
    }
   ],
   "source": [
    "np.array(data_feats).shape"
   ]
  },
  {
   "cell_type": "code",
   "execution_count": 32,
   "id": "8e07e95f",
   "metadata": {},
   "outputs": [
    {
     "data": {
      "image/png": "[encoded data removed]",
      "text/plain": [
       "<Figure size 640x480 with 1 Axes>"
      ]
     },
     "metadata": {},
     "output_type": "display_data"
    }
   ],
   "source": [
    "# Plot features for 11 patches\n",
    "for i in range(11):\n",
    "    plt.scatter(range(96), data_feats[i*10])\n",
    "plt.show()"
   ]
  },
  {
   "cell_type": "markdown",
   "id": "bcb23945",
   "metadata": {},
   "source": [
    "Try extracting mean features"
   ]
  },
  {
   "cell_type": "code",
   "execution_count": 33,
   "id": "3e56f96d",
   "metadata": {},
   "outputs": [
    {
     "data": {
      "application/vnd.jupyter.widget-view+json": {
       "model_id": "dde189996204447c8af77f88c669f9ca",
       "version_major": 2,
       "version_minor": 0
      },
      "text/plain": [
       "  0%|          | 0/25 [00:00<?, ?it/s]"
      ]
     },
     "metadata": {},
     "output_type": "display_data"
    }
   ],
   "source": [
    "mean_feats = extract_features_per_slide(tma_ids, train_df, patch_df, val_transform, \n",
    "                                           feature_model, mlp, device)"
   ]
  },
  {
   "cell_type": "code",
   "execution_count": 34,
   "id": "8f1e1f9e",
   "metadata": {},
   "outputs": [
    {
     "data": {
      "text/plain": [
       "(25, 96)"
      ]
     },
     "execution_count": 34,
     "metadata": {},
     "output_type": "execute_result"
    }
   ],
   "source": [
    "np.array(mean_feats).shape"
   ]
  },
  {
   "cell_type": "code",
   "execution_count": 35,
   "id": "3e4b0b70",
   "metadata": {},
   "outputs": [
    {
     "data": {
      "image/png": "[encoded data removed]",
      "text/plain": [
       "<Figure size 640x480 with 1 Axes>"
      ]
     },
     "metadata": {},
     "output_type": "display_data"
    }
   ],
   "source": [
    "# Plot mean features for first 11 slides\n",
    "for i in range(11):\n",
    "    plt.scatter(range(96), mean_feats[i])\n",
    "plt.show()"
   ]
  },
  {
   "cell_type": "markdown",
   "id": "7632424d",
   "metadata": {},
   "source": [
    "### Fit OneClassSVM\n",
    "\n",
    "May have to fit on subsampled set of all data"
   ]
  },
  {
   "cell_type": "code",
   "execution_count": 36,
   "id": "23ea3717",
   "metadata": {},
   "outputs": [],
   "source": [
    "def fit_ocsvm(data, nu):\n",
    "    start = time.time()\n",
    "\n",
    "    osvm = OneClassSVM(kernel='rbf',gamma='scale', nu=nu)\n",
    "    osvm.fit(data)\n",
    "    \n",
    "    end = time.time()\n",
    "    print(f'Took {end-start:.0f} seconds to fit OCSVM')\n",
    "    \n",
    "    return osvm"
   ]
  },
  {
   "cell_type": "code",
   "execution_count": 72,
   "id": "6106d785",
   "metadata": {},
   "outputs": [
    {
     "name": "stdout",
     "output_type": "stream",
     "text": [
      "Took 0 seconds to fit OCSVM\n"
     ]
    }
   ],
   "source": [
    "osvm = fit_ocsvm(data_feats, nu=0.16)"
   ]
  },
  {
   "cell_type": "code",
   "execution_count": 73,
   "id": "191d98aa",
   "metadata": {
    "scrolled": true
   },
   "outputs": [
    {
     "data": {
      "text/plain": [
       "(array([-1,  1]), array([ 474, 2483]))"
      ]
     },
     "execution_count": 73,
     "metadata": {},
     "output_type": "execute_result"
    }
   ],
   "source": [
    "np.unique(osvm.predict(data_feats), return_counts=True)"
   ]
  },
  {
   "cell_type": "markdown",
   "id": "bfebc7b5",
   "metadata": {},
   "source": [
    "This is on patch level. In inference will fit on all patches of one slide at once. Then should roughly predict about 16% outliers per slide instead of across all slides.\n",
    "\n",
    "#### Mean features OCSVM\n",
    "\n",
    "Could take mean features over slides to correct."
   ]
  },
  {
   "cell_type": "code",
   "execution_count": 74,
   "id": "8610012a",
   "metadata": {},
   "outputs": [
    {
     "name": "stdout",
     "output_type": "stream",
     "text": [
      "Took 0 seconds to fit OCSVM\n"
     ]
    }
   ],
   "source": [
    "mean_osvm = fit_ocsvm(mean_feats, nu=0.16)"
   ]
  },
  {
   "cell_type": "code",
   "execution_count": 75,
   "id": "26ba10b4",
   "metadata": {},
   "outputs": [
    {
     "data": {
      "text/plain": [
       "(array([-1,  1]), array([ 4, 21]))"
      ]
     },
     "execution_count": 75,
     "metadata": {},
     "output_type": "execute_result"
    }
   ],
   "source": [
    "osvm_preds = mean_osvm.predict(mean_feats)\n",
    "np.unique(osvm_preds, return_counts=True)"
   ]
  },
  {
   "cell_type": "markdown",
   "id": "21267558",
   "metadata": {},
   "source": [
    "If predicting one slide at once, using mean features, need to reshape data input"
   ]
  },
  {
   "cell_type": "code",
   "execution_count": 76,
   "id": "2a921eb0",
   "metadata": {
    "scrolled": true
   },
   "outputs": [
    {
     "data": {
      "text/plain": [
       "-1"
      ]
     },
     "execution_count": 76,
     "metadata": {},
     "output_type": "execute_result"
    }
   ],
   "source": [
    "mean_osvm.predict(mean_feats[0].reshape(1, -1))[0]"
   ]
  },
  {
   "cell_type": "code",
   "execution_count": 77,
   "id": "07b976c1",
   "metadata": {},
   "outputs": [
    {
     "data": {
      "text/plain": [
       "(1, 96)"
      ]
     },
     "execution_count": 77,
     "metadata": {},
     "output_type": "execute_result"
    }
   ],
   "source": [
    "mean_feats[0].reshape(1, -1).shape"
   ]
  },
  {
   "cell_type": "markdown",
   "id": "0a745902",
   "metadata": {},
   "source": [
    "Save model"
   ]
  },
  {
   "cell_type": "code",
   "execution_count": 41,
   "id": "3a83ddd8",
   "metadata": {},
   "outputs": [],
   "source": [
    "def save_ocsvm(osvm, osvm_name):\n",
    "    dump(osvm, f'{osvm_name}.joblib')"
   ]
  },
  {
   "cell_type": "markdown",
   "id": "ce7dd520",
   "metadata": {},
   "source": [
    "#### Check nu=0.16 model on other images"
   ]
  },
  {
   "cell_type": "code",
   "execution_count": 40,
   "id": "2ab775c6",
   "metadata": {},
   "outputs": [],
   "source": [
    "def test_ocsvm(osvm, train_ids=train_ids, train_df=train_df, patch_df=patch_df, val_transform=val_transform, \n",
    "              feature_model=feature_model, mlp=mlp, device=device):\n",
    "    random.seed(1234)\n",
    "    sample_ids = random.sample(list(train_ids), 30)\n",
    "    \n",
    "    test_mean_feats = extract_features_per_slide(sample_ids, train_df, patch_df, val_transform, \n",
    "                                           feature_model, mlp, device)\n",
    "    osvm_preds = osvm.predict(test_mean_feats)\n",
    "    print(np.unique(osvm_preds, return_counts=True))\n",
    "    return test_mean_feats"
   ]
  },
  {
   "cell_type": "code",
   "execution_count": 83,
   "id": "97952d2d",
   "metadata": {},
   "outputs": [
    {
     "data": {
      "application/vnd.jupyter.widget-view+json": {
       "model_id": "b8804e16d1c04bad8fb01b40e2bff781",
       "version_major": 2,
       "version_minor": 0
      },
      "text/plain": [
       "  0%|          | 0/30 [00:00<?, ?it/s]"
      ]
     },
     "metadata": {},
     "output_type": "display_data"
    },
    {
     "name": "stdout",
     "output_type": "stream",
     "text": [
      "(array([-1,  1]), array([ 1, 29]))\n"
     ]
    }
   ],
   "source": [
    "test_mean_feats = test_ocsvm(osvm)"
   ]
  },
  {
   "cell_type": "markdown",
   "id": "cc9a756e",
   "metadata": {},
   "source": [
    "#### Test model with nu=0.84\n",
    "\n",
    "Lots of outliers"
   ]
  },
  {
   "cell_type": "code",
   "execution_count": 87,
   "id": "f17ad72e",
   "metadata": {},
   "outputs": [
    {
     "name": "stdout",
     "output_type": "stream",
     "text": [
      "Took 0 seconds to fit OCSVM\n"
     ]
    }
   ],
   "source": [
    "mean_osvm = fit_ocsvm(mean_feats, nu=0.84)"
   ]
  },
  {
   "cell_type": "code",
   "execution_count": 88,
   "id": "db4123b2",
   "metadata": {},
   "outputs": [
    {
     "data": {
      "application/vnd.jupyter.widget-view+json": {
       "model_id": "2a0ae690672f4088a25437fa1a71ed5e",
       "version_major": 2,
       "version_minor": 0
      },
      "text/plain": [
       "  0%|          | 0/30 [00:00<?, ?it/s]"
      ]
     },
     "metadata": {},
     "output_type": "display_data"
    },
    {
     "name": "stdout",
     "output_type": "stream",
     "text": [
      "(array([-1,  1]), array([23,  7]))\n"
     ]
    }
   ],
   "source": [
    "test_mean_feats = test_ocsvm(mean_osvm)"
   ]
  },
  {
   "cell_type": "markdown",
   "id": "48688881",
   "metadata": {},
   "source": [
    "### Try linear SGD OCSVM\n",
    "\n",
    "On mean slide features.\n",
    "\n",
    "More consistent at predicting outliers."
   ]
  },
  {
   "cell_type": "code",
   "execution_count": 37,
   "id": "1315749e",
   "metadata": {},
   "outputs": [],
   "source": [
    "def fit_sgd_ocsvm(data, nu):\n",
    "    start = time.time()\n",
    "\n",
    "    osvm = linear_model.SGDOneClassSVM(random_state=42, nu=nu)\n",
    "    osvm.fit(data)\n",
    "    \n",
    "    end = time.time()\n",
    "    print(f'Took {end-start:.0f} seconds to fit SGD OCSVM')\n",
    "    \n",
    "    return osvm"
   ]
  },
  {
   "cell_type": "code",
   "execution_count": 38,
   "id": "4745d025",
   "metadata": {
    "scrolled": false
   },
   "outputs": [
    {
     "name": "stdout",
     "output_type": "stream",
     "text": [
      "Took 0 seconds to fit SGD OCSVM\n"
     ]
    },
    {
     "data": {
      "text/plain": [
       "(array([-1,  1], dtype=int32), array([ 1, 24]))"
      ]
     },
     "execution_count": 38,
     "metadata": {},
     "output_type": "execute_result"
    }
   ],
   "source": [
    "osvm = fit_sgd_ocsvm(mean_feats, nu=0.16)\n",
    "np.unique(osvm.predict(mean_feats), return_counts=True)"
   ]
  },
  {
   "cell_type": "markdown",
   "id": "21948b65",
   "metadata": {},
   "source": [
    "Correctly predicts most training data as non-outliers"
   ]
  },
  {
   "cell_type": "code",
   "execution_count": 42,
   "id": "8ee4ecc1",
   "metadata": {},
   "outputs": [
    {
     "data": {
      "application/vnd.jupyter.widget-view+json": {
       "model_id": "262cddb775594b4d96c20007907f54f7",
       "version_major": 2,
       "version_minor": 0
      },
      "text/plain": [
       "  0%|          | 0/30 [00:00<?, ?it/s]"
      ]
     },
     "metadata": {},
     "output_type": "display_data"
    },
    {
     "name": "stdout",
     "output_type": "stream",
     "text": [
      "(array([-1,  1], dtype=int32), array([ 2, 28]))\n"
     ]
    }
   ],
   "source": [
    "test_mean_feats = test_ocsvm(osvm)"
   ]
  },
  {
   "cell_type": "code",
   "execution_count": 43,
   "id": "3b1564e7",
   "metadata": {},
   "outputs": [],
   "source": [
    "osvm_name = 'ocvsm_sgd_tma_mean_20x_nu_.16'\n",
    "save_ocsvm(osvm, osvm_name)"
   ]
  },
  {
   "cell_type": "markdown",
   "id": "e51f3202",
   "metadata": {},
   "source": [
    "### Fit SGD OCSVM on all TMA data feats"
   ]
  },
  {
   "cell_type": "code",
   "execution_count": 92,
   "id": "b3d7abe1",
   "metadata": {},
   "outputs": [
    {
     "name": "stdout",
     "output_type": "stream",
     "text": [
      "Took 0 seconds to fit SGD OCSVM\n"
     ]
    }
   ],
   "source": [
    "osvm = fit_sgd_ocsvm(data_feats, nu=0.16)"
   ]
  },
  {
   "cell_type": "code",
   "execution_count": 93,
   "id": "509fda9c",
   "metadata": {},
   "outputs": [
    {
     "data": {
      "text/plain": [
       "(array([-1,  1], dtype=int32), array([ 151, 2806]))"
      ]
     },
     "execution_count": 93,
     "metadata": {},
     "output_type": "execute_result"
    }
   ],
   "source": [
    "preds = osvm.predict(data_feats)\n",
    "np.unique(preds, return_counts=True)"
   ]
  },
  {
   "cell_type": "code",
   "execution_count": 94,
   "id": "ff41e37e",
   "metadata": {},
   "outputs": [
    {
     "data": {
      "text/plain": [
       "(2957, 96)"
      ]
     },
     "execution_count": 94,
     "metadata": {},
     "output_type": "execute_result"
    }
   ],
   "source": [
    "np.array(data_feats).shape"
   ]
  },
  {
   "cell_type": "markdown",
   "id": "e95bedd1",
   "metadata": {},
   "source": [
    "No outliers predicted in TMA set (all > 0)"
   ]
  },
  {
   "cell_type": "code",
   "execution_count": 95,
   "id": "a604133d",
   "metadata": {},
   "outputs": [
    {
     "name": "stdout",
     "output_type": "stream",
     "text": [
      "image id 91, prediction 1.000\n",
      "image id 4134, prediction 1.000\n",
      "image id 8280, prediction 0.959\n",
      "image id 9200, prediction 0.863\n",
      "image id 13568, prediction 0.982\n",
      "image id 17637, prediction 1.000\n",
      "image id 21020, prediction 0.677\n",
      "image id 29084, prediction 1.000\n",
      "image id 31594, prediction 1.000\n",
      "image id 35565, prediction 1.000\n",
      "image id 36302, prediction 1.000\n",
      "image id 36583, prediction 0.342\n",
      "image id 36783, prediction 0.887\n",
      "image id 37385, prediction 1.000\n",
      "image id 40864, prediction 1.000\n",
      "image id 41368, prediction 0.914\n",
      "image id 41586, prediction 1.000\n",
      "image id 42857, prediction 0.783\n",
      "image id 44603, prediction 1.000\n",
      "image id 47035, prediction 0.911\n",
      "image id 48734, prediction 1.000\n",
      "image id 50932, prediction 1.000\n",
      "image id 53655, prediction 0.299\n",
      "image id 57696, prediction 0.983\n",
      "image id 61797, prediction 1.000\n"
     ]
    }
   ],
   "source": [
    "for image_id in tma_patch_df.image_id.unique():\n",
    "    image_idx = tma_patch_df.index[tma_patch_df.image_id==image_id].tolist()\n",
    "    out_preds = preds[image_idx]\n",
    "    out_pred = np.mean(out_preds)\n",
    "    print(f'image id {image_id}, prediction {out_pred:.3f}')"
   ]
  },
  {
   "cell_type": "code",
   "execution_count": 96,
   "id": "6542f8e2",
   "metadata": {},
   "outputs": [],
   "source": [
    "def test_no_mean_ocsvm(osvm, train_ids=train_ids, train_df=train_df, patch_df=patch_df, \n",
    "                       val_transform=val_transform, feature_model=feature_model, mlp=mlp, device=device):\n",
    "    random.seed(1234)\n",
    "    sample_ids = random.sample(list(train_ids), 10)\n",
    "    osvm_preds = []\n",
    "    \n",
    "    for slide in sample_ids:\n",
    "        \n",
    "        slide_patch_df = patch_df[patch_df.image_id==slide].reset_index(drop=True)\n",
    "        \n",
    "        slide_patch_dataset = PatchDataset(patch_df=slide_patch_df, label_df=train_df, \n",
    "                                 image_folder=args.image_dir, transform=val_transform, return_id=True,\n",
    "                                mag=args.mag)\n",
    "\n",
    "        slide_data_loader = DataLoader(slide_patch_dataset, batch_size=args.batch_size_per_gpu, \n",
    "                             shuffle=False, num_workers=args.num_workers, pin_memory=True, sampler=None)\n",
    "        \n",
    "        slide_feats = extract_features(feature_model, mlp, slide_data_loader, device)\n",
    "    \n",
    "        osvm_all_preds = osvm.predict(slide_feats)\n",
    "        osvm_pred = np.mean(osvm_all_preds)\n",
    "        print(f'Image {slide}, prediction {osvm_pred:.2f}')\n",
    "        osvm_preds.append(1 if osvm_pred >= 0 else -1)\n",
    "    \n",
    "    #print(np.unique(osvm_preds, return_counts=True))\n",
    "    print('Predictions:', osvm_preds)\n",
    "    return osvm_preds"
   ]
  },
  {
   "cell_type": "markdown",
   "id": "2a1a971a",
   "metadata": {},
   "source": [
    "#### If mean prediction < 0, mark as outlier"
   ]
  },
  {
   "cell_type": "code",
   "execution_count": 97,
   "id": "80c61ddb",
   "metadata": {
    "scrolled": true
   },
   "outputs": [
    {
     "data": {
      "application/vnd.jupyter.widget-view+json": {
       "model_id": "",
       "version_major": 2,
       "version_minor": 0
      },
      "text/plain": [
       "Evaluating:   0%|          | 0/11 [00:00<?, ?it/s]"
      ]
     },
     "metadata": {},
     "output_type": "display_data"
    },
    {
     "name": "stdout",
     "output_type": "stream",
     "text": [
      "Image 56843, prediction 0.95\n"
     ]
    },
    {
     "data": {
      "application/vnd.jupyter.widget-view+json": {
       "model_id": "",
       "version_major": 2,
       "version_minor": 0
      },
      "text/plain": [
       "Evaluating:   0%|          | 0/48 [00:00<?, ?it/s]"
      ]
     },
     "metadata": {},
     "output_type": "display_data"
    },
    {
     "name": "stdout",
     "output_type": "stream",
     "text": [
      "Image 15188, prediction 0.67\n"
     ]
    },
    {
     "data": {
      "application/vnd.jupyter.widget-view+json": {
       "model_id": "",
       "version_major": 2,
       "version_minor": 0
      },
      "text/plain": [
       "Evaluating:   0%|          | 0/17 [00:00<?, ?it/s]"
      ]
     },
     "metadata": {},
     "output_type": "display_data"
    },
    {
     "name": "stdout",
     "output_type": "stream",
     "text": [
      "Image 1020, prediction 0.85\n"
     ]
    },
    {
     "data": {
      "application/vnd.jupyter.widget-view+json": {
       "model_id": "",
       "version_major": 2,
       "version_minor": 0
      },
      "text/plain": [
       "Evaluating:   0%|          | 0/19 [00:00<?, ?it/s]"
      ]
     },
     "metadata": {},
     "output_type": "display_data"
    },
    {
     "name": "stdout",
     "output_type": "stream",
     "text": [
      "Image 10800, prediction 0.74\n"
     ]
    },
    {
     "data": {
      "application/vnd.jupyter.widget-view+json": {
       "model_id": "",
       "version_major": 2,
       "version_minor": 0
      },
      "text/plain": [
       "Evaluating:   0%|          | 0/18 [00:00<?, ?it/s]"
      ]
     },
     "metadata": {},
     "output_type": "display_data"
    },
    {
     "name": "stdout",
     "output_type": "stream",
     "text": [
      "Image 3997, prediction 0.92\n"
     ]
    },
    {
     "data": {
      "application/vnd.jupyter.widget-view+json": {
       "model_id": "",
       "version_major": 2,
       "version_minor": 0
      },
      "text/plain": [
       "Evaluating:   0%|          | 0/33 [00:00<?, ?it/s]"
      ]
     },
     "metadata": {},
     "output_type": "display_data"
    },
    {
     "name": "stdout",
     "output_type": "stream",
     "text": [
      "Image 10077, prediction 0.56\n"
     ]
    },
    {
     "data": {
      "application/vnd.jupyter.widget-view+json": {
       "model_id": "",
       "version_major": 2,
       "version_minor": 0
      },
      "text/plain": [
       "Evaluating:   0%|          | 0/17 [00:00<?, ?it/s]"
      ]
     },
     "metadata": {},
     "output_type": "display_data"
    },
    {
     "name": "stdout",
     "output_type": "stream",
     "text": [
      "Image 12222, prediction 0.31\n"
     ]
    },
    {
     "data": {
      "application/vnd.jupyter.widget-view+json": {
       "model_id": "",
       "version_major": 2,
       "version_minor": 0
      },
      "text/plain": [
       "Evaluating:   0%|          | 0/5 [00:00<?, ?it/s]"
      ]
     },
     "metadata": {},
     "output_type": "display_data"
    },
    {
     "name": "stdout",
     "output_type": "stream",
     "text": [
      "Image 45254, prediction 0.71\n"
     ]
    },
    {
     "data": {
      "application/vnd.jupyter.widget-view+json": {
       "model_id": "",
       "version_major": 2,
       "version_minor": 0
      },
      "text/plain": [
       "Evaluating:   0%|          | 0/4 [00:00<?, ?it/s]"
      ]
     },
     "metadata": {},
     "output_type": "display_data"
    },
    {
     "name": "stdout",
     "output_type": "stream",
     "text": [
      "Image 30539, prediction 0.82\n"
     ]
    },
    {
     "data": {
      "application/vnd.jupyter.widget-view+json": {
       "model_id": "",
       "version_major": 2,
       "version_minor": 0
      },
      "text/plain": [
       "Evaluating:   0%|          | 0/12 [00:00<?, ?it/s]"
      ]
     },
     "metadata": {},
     "output_type": "display_data"
    },
    {
     "name": "stdout",
     "output_type": "stream",
     "text": [
      "Image 1943, prediction 0.60\n",
      "Predictions: [1, 1, 1, 1, 1, 1, 1, 1, 1, 1]\n"
     ]
    }
   ],
   "source": [
    "osvm_preds = test_no_mean_ocsvm(osvm)"
   ]
  },
  {
   "cell_type": "markdown",
   "id": "70084c42",
   "metadata": {},
   "source": [
    "## Sample 200 patches from full dataset and train SVM on these"
   ]
  },
  {
   "cell_type": "code",
   "execution_count": 44,
   "id": "46e72608",
   "metadata": {
    "scrolled": true
   },
   "outputs": [],
   "source": [
    "# Have to sample with replacement because some images don't have 200 patches\n",
    "sampled_patch_df = patch_df.groupby(\"image_id\").sample(200, replace=True).reset_index(drop=True)"
   ]
  },
  {
   "cell_type": "code",
   "execution_count": 45,
   "id": "97cba342",
   "metadata": {},
   "outputs": [
    {
     "data": {
      "application/vnd.jupyter.widget-view+json": {
       "model_id": "",
       "version_major": 2,
       "version_minor": 0
      },
      "text/plain": [
       "Evaluating:   0%|          | 0/53 [00:00<?, ?it/s]"
      ]
     },
     "metadata": {},
     "output_type": "display_data"
    }
   ],
   "source": [
    "patch_dataset = PatchDataset(patch_df=sampled_patch_df, label_df=train_df, \n",
    "                                 image_folder=args.image_dir, transform=val_transform, return_id=True,\n",
    "                                mag=args.mag)\n",
    "\n",
    "data_loader = DataLoader(patch_dataset, batch_size=args.batch_size_per_gpu, \n",
    "                             shuffle=False, num_workers=args.num_workers, pin_memory=True, sampler=None)\n",
    "samp_data_feats = extract_features(feature_model, mlp, data_loader, device)"
   ]
  },
  {
   "cell_type": "markdown",
   "id": "11f4f6d7",
   "metadata": {},
   "source": [
    "#### nu = 0.5\n",
    "\n",
    "2 outliers predicted in 25 TMAs"
   ]
  },
  {
   "cell_type": "code",
   "execution_count": 100,
   "id": "01b4a350",
   "metadata": {},
   "outputs": [
    {
     "name": "stdout",
     "output_type": "stream",
     "text": [
      "Took 1 seconds to fit SGD OCSVM\n"
     ]
    }
   ],
   "source": [
    "osvm = fit_sgd_ocsvm(samp_data_feats, nu=0.5)"
   ]
  },
  {
   "cell_type": "code",
   "execution_count": 101,
   "id": "fe255250",
   "metadata": {},
   "outputs": [
    {
     "data": {
      "text/plain": [
       "(array([-1,  1], dtype=int32), array([ 377, 2580]))"
      ]
     },
     "execution_count": 101,
     "metadata": {},
     "output_type": "execute_result"
    }
   ],
   "source": [
    "# Predict on TMAs\n",
    "preds = osvm.predict(data_feats)\n",
    "np.unique(preds, return_counts=True)"
   ]
  },
  {
   "cell_type": "code",
   "execution_count": 102,
   "id": "2fd2897c",
   "metadata": {},
   "outputs": [
    {
     "name": "stdout",
     "output_type": "stream",
     "text": [
      "image id 91, prediction 1.000\n",
      "image id 4134, prediction 0.577\n",
      "image id 8280, prediction 0.876\n",
      "image id 9200, prediction 0.573\n",
      "image id 13568, prediction 0.893\n",
      "image id 17637, prediction 1.000\n",
      "image id 21020, prediction 0.077\n",
      "image id 29084, prediction 1.000\n",
      "image id 31594, prediction 1.000\n",
      "image id 35565, prediction 1.000\n",
      "image id 36302, prediction 1.000\n",
      "image id 36583, prediction -0.219\n",
      "image id 36783, prediction 0.623\n",
      "image id 37385, prediction 1.000\n",
      "image id 40864, prediction 0.908\n",
      "image id 41368, prediction 0.865\n",
      "image id 41586, prediction 1.000\n",
      "image id 42857, prediction 0.478\n",
      "image id 44603, prediction 1.000\n",
      "image id 47035, prediction 0.356\n",
      "image id 48734, prediction 0.984\n",
      "image id 50932, prediction 1.000\n",
      "image id 53655, prediction -0.282\n",
      "image id 57696, prediction 0.983\n",
      "image id 61797, prediction 1.000\n"
     ]
    }
   ],
   "source": [
    "for image_id in tma_patch_df.image_id.unique():\n",
    "    image_idx = tma_patch_df.index[tma_patch_df.image_id==image_id].tolist()\n",
    "    out_preds = preds[image_idx]\n",
    "    out_pred = np.mean(out_preds)\n",
    "    print(f'image id {image_id}, prediction {out_pred:.3f}')"
   ]
  },
  {
   "cell_type": "markdown",
   "id": "7a0fb62a",
   "metadata": {},
   "source": [
    "#### nu = 0.86\n",
    "\n",
    "3 outliers predicted in 25 TMAs"
   ]
  },
  {
   "cell_type": "code",
   "execution_count": 107,
   "id": "12ebecba",
   "metadata": {},
   "outputs": [
    {
     "name": "stdout",
     "output_type": "stream",
     "text": [
      "Took 0 seconds to fit SGD OCSVM\n"
     ]
    }
   ],
   "source": [
    "osvm = fit_sgd_ocsvm(samp_data_feats, nu=0.86)"
   ]
  },
  {
   "cell_type": "code",
   "execution_count": 108,
   "id": "822a0433",
   "metadata": {},
   "outputs": [
    {
     "data": {
      "text/plain": [
       "(array([-1,  1], dtype=int32), array([ 526, 2431]))"
      ]
     },
     "execution_count": 108,
     "metadata": {},
     "output_type": "execute_result"
    }
   ],
   "source": [
    "# Predict on TMAs\n",
    "preds = osvm.predict(data_feats)\n",
    "np.unique(preds, return_counts=True)"
   ]
  },
  {
   "cell_type": "code",
   "execution_count": 109,
   "id": "46374e6f",
   "metadata": {},
   "outputs": [
    {
     "name": "stdout",
     "output_type": "stream",
     "text": [
      "image id 91, prediction 1.000\n",
      "image id 4134, prediction 0.154\n",
      "image id 8280, prediction 0.773\n",
      "image id 9200, prediction 0.368\n",
      "image id 13568, prediction 0.750\n",
      "image id 17637, prediction 0.983\n",
      "image id 21020, prediction -0.092\n",
      "image id 29084, prediction 1.000\n",
      "image id 31594, prediction 0.927\n",
      "image id 35565, prediction 0.939\n",
      "image id 36302, prediction 1.000\n",
      "image id 36583, prediction -0.438\n",
      "image id 36783, prediction 0.245\n",
      "image id 37385, prediction 0.964\n",
      "image id 40864, prediction 0.832\n",
      "image id 41368, prediction 0.791\n",
      "image id 41586, prediction 0.960\n",
      "image id 42857, prediction 0.304\n",
      "image id 44603, prediction 0.987\n",
      "image id 47035, prediction 0.156\n",
      "image id 48734, prediction 0.953\n",
      "image id 50932, prediction 1.000\n",
      "image id 53655, prediction -0.590\n",
      "image id 57696, prediction 0.983\n",
      "image id 61797, prediction 0.987\n"
     ]
    }
   ],
   "source": [
    "for image_id in tma_patch_df.image_id.unique():\n",
    "    image_idx = tma_patch_df.index[tma_patch_df.image_id==image_id].tolist()\n",
    "    out_preds = preds[image_idx]\n",
    "    out_pred = np.mean(out_preds)\n",
    "    print(f'image id {image_id}, prediction {out_pred:.3f}')"
   ]
  },
  {
   "cell_type": "markdown",
   "id": "752793f4",
   "metadata": {},
   "source": [
    "#### nu = 0.16\n",
    "\n",
    "No outliers predicted in 25 TMAs"
   ]
  },
  {
   "cell_type": "code",
   "execution_count": 46,
   "id": "6ef52a94",
   "metadata": {},
   "outputs": [
    {
     "name": "stdout",
     "output_type": "stream",
     "text": [
      "Took 1 seconds to fit SGD OCSVM\n"
     ]
    }
   ],
   "source": [
    "osvm = fit_sgd_ocsvm(samp_data_feats, nu=0.16)"
   ]
  },
  {
   "cell_type": "code",
   "execution_count": 47,
   "id": "63028e44",
   "metadata": {},
   "outputs": [
    {
     "data": {
      "text/plain": [
       "(107600, 96)"
      ]
     },
     "execution_count": 47,
     "metadata": {},
     "output_type": "execute_result"
    }
   ],
   "source": [
    "np.array(samp_data_feats).shape"
   ]
  },
  {
   "cell_type": "code",
   "execution_count": 48,
   "id": "a76505f7",
   "metadata": {},
   "outputs": [
    {
     "data": {
      "text/plain": [
       "(array([-1,  1], dtype=int32), array([ 379, 2578]))"
      ]
     },
     "execution_count": 48,
     "metadata": {},
     "output_type": "execute_result"
    }
   ],
   "source": [
    "# Predict on TMAs\n",
    "preds = osvm.predict(data_feats)\n",
    "np.unique(preds, return_counts=True)"
   ]
  },
  {
   "cell_type": "code",
   "execution_count": 49,
   "id": "6570b5a9",
   "metadata": {},
   "outputs": [
    {
     "name": "stdout",
     "output_type": "stream",
     "text": [
      "image id 91, prediction 1.000\n",
      "image id 4134, prediction 0.365\n",
      "image id 8280, prediction 0.918\n",
      "image id 9200, prediction 0.607\n",
      "image id 13568, prediction 0.946\n",
      "image id 17637, prediction 1.000\n",
      "image id 21020, prediction 0.185\n",
      "image id 29084, prediction 1.000\n",
      "image id 31594, prediction 1.000\n",
      "image id 35565, prediction 0.798\n",
      "image id 36302, prediction 1.000\n",
      "image id 36583, prediction 0.000\n",
      "image id 36783, prediction 0.698\n",
      "image id 37385, prediction 0.964\n",
      "image id 40864, prediction 0.939\n",
      "image id 41368, prediction 0.816\n",
      "image id 41586, prediction 0.980\n",
      "image id 42857, prediction 0.435\n",
      "image id 44603, prediction 0.973\n",
      "image id 47035, prediction 0.400\n",
      "image id 48734, prediction 1.000\n",
      "image id 50932, prediction 1.000\n",
      "image id 53655, prediction -0.402\n",
      "image id 57696, prediction 0.983\n",
      "image id 61797, prediction 1.000\n"
     ]
    }
   ],
   "source": [
    "for image_id in tma_patch_df.image_id.unique():\n",
    "    image_idx = tma_patch_df.index[tma_patch_df.image_id==image_id].tolist()\n",
    "    out_preds = preds[image_idx]\n",
    "    out_pred = np.mean(out_preds)\n",
    "    print(f'image id {image_id}, prediction {out_pred:.3f}')"
   ]
  },
  {
   "cell_type": "code",
   "execution_count": 50,
   "id": "003584a8",
   "metadata": {},
   "outputs": [],
   "source": [
    "osvm_name = 'ocvsm_sgd_samp200_20x_nu_.16'\n",
    "save_ocsvm(osvm, osvm_name)"
   ]
  },
  {
   "cell_type": "code",
   "execution_count": null,
   "id": "d86fe4fb",
   "metadata": {},
   "outputs": [],
   "source": []
  }
 ],
 "metadata": {
  "kernelspec": {
   "display_name": "Python 3 (ipykernel)",
   "language": "python",
   "name": "python3"
  },
  "language_info": {
   "codemirror_mode": {
    "name": "ipython",
    "version": 3
   },
   "file_extension": ".py",
   "mimetype": "text/x-python",
   "name": "python",
   "nbconvert_exporter": "python",
   "pygments_lexer": "ipython3",
   "version": "3.8.16"
  }
 },
 "nbformat": 4,
 "nbformat_minor": 5
}
